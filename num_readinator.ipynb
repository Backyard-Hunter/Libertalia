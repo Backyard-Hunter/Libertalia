{
  "nbformat": 4,
  "nbformat_minor": 0,
  "metadata": {
    "colab": {
      "name": "num_readinator.ipynb",
      "provenance": [],
      "collapsed_sections": [],
      "authorship_tag": "ABX9TyNDo17l031BT4iHa7SBNu6P",
      "include_colab_link": true
    },
    "kernelspec": {
      "name": "python3",
      "display_name": "Python 3"
    }
  },
  "cells": [
    {
      "cell_type": "markdown",
      "metadata": {
        "id": "view-in-github",
        "colab_type": "text"
      },
      "source": [
        "<a href=\"https://colab.research.google.com/github/Backyard-Hunter/Libertalia/blob/main/num_readinator.ipynb\" target=\"_parent\"><img src=\"https://colab.research.google.com/assets/colab-badge.svg\" alt=\"Open In Colab\"/></a>"
      ]
    },
    {
      "cell_type": "code",
      "metadata": {
        "id": "Bm3DlCcEe-SD"
      },
      "source": [
        "import tensorflow as tf"
      ],
      "execution_count": null,
      "outputs": []
    },
    {
      "cell_type": "code",
      "metadata": {
        "id": "dbqmiR_MfjAv"
      },
      "source": [
        "mnist = tf.keras.datasets.mnist "
      ],
      "execution_count": null,
      "outputs": []
    },
    {
      "cell_type": "code",
      "metadata": {
        "id": "wH_G4pIlfreQ",
        "colab": {
          "base_uri": "https://localhost:8080/"
        },
        "outputId": "2f9f38af-e087-48e4-8cd1-6319d60ca0c8"
      },
      "source": [
        "(x_train, y_train), (x_test, y_test) = mnist.load_data()"
      ],
      "execution_count": null,
      "outputs": [
        {
          "output_type": "stream",
          "text": [
            "Downloading data from https://storage.googleapis.com/tensorflow/tf-keras-datasets/mnist.npz\n",
            "11493376/11490434 [==============================] - 0s 0us/step\n"
          ],
          "name": "stdout"
        }
      ]
    },
    {
      "cell_type": "code",
      "metadata": {
        "id": "b5mGsQXLgAsv",
        "colab": {
          "base_uri": "https://localhost:8080/",
          "height": 282
        },
        "outputId": "7519759f-bcd6-4378-b828-611217b5cca5"
      },
      "source": [
        "import matplotlib.pyplot as plt\r\n",
        "plt.imshow(x_train[0])"
      ],
      "execution_count": null,
      "outputs": [
        {
          "output_type": "execute_result",
          "data": {
            "text/plain": [
              "<matplotlib.image.AxesImage at 0x7f44f6033278>"
            ]
          },
          "metadata": {
            "tags": []
          },
          "execution_count": 5
        },
        {
          "output_type": "display_data",
          "data": {
            "image/png": "[encoded data removed]",
            "text/plain": [
              "<Figure size 432x288 with 1 Axes>"
            ]
          },
          "metadata": {
            "tags": [],
            "needs_background": "light"
          }
        }
      ]
    },
    {
      "cell_type": "code",
      "metadata": {
        "id": "NrrdNH7ZgM2n"
      },
      "source": [
        "x_train = tf.keras.utils.normalize(x_train, axis=1)\r\n",
        "x_test = tf.keras.utils.normalize(x_test, axis=1)"
      ],
      "execution_count": null,
      "outputs": []
    },
    {
      "cell_type": "code",
      "metadata": {
        "id": "Dfj4NCV8gsvf"
      },
      "source": [
        "model = tf.keras.models.Sequential()"
      ],
      "execution_count": null,
      "outputs": []
    },
    {
      "cell_type": "code",
      "metadata": {
        "id": "XyOrz93Fg4Ym"
      },
      "source": [
        "model.add(tf.keras.layers.Flatten())\r\n",
        "model.add(tf.keras.layers.Dense(128, activation=tf.nn.relu))\r\n",
        "model.add(tf.keras.layers.Dense(128, activation=tf.nn.relu))\r\n",
        "model.add(tf.keras.layers.Dense(10, activation=tf.nn.softmax))"
      ],
      "execution_count": null,
      "outputs": []
    },
    {
      "cell_type": "code",
      "metadata": {
        "id": "k2KM3iNShiXn",
        "colab": {
          "base_uri": "https://localhost:8080/"
        },
        "outputId": "830aa293-f124-410a-eb99-a747bcb60069"
      },
      "source": [
        "model.compile(optimizer='adam', loss='sparse_categorical_crossentropy', metrics=['accuracy'])\r\n",
        "model.fit(x_train, y_train, epochs=3)"
      ],
      "execution_count": null,
      "outputs": [
        {
          "output_type": "stream",
          "text": [
            "Epoch 1/3\n",
            "1875/1875 [==============================] - 4s 2ms/step - loss: 0.4698 - accuracy: 0.8693\n",
            "Epoch 2/3\n",
            "1875/1875 [==============================] - 4s 2ms/step - loss: 0.1109 - accuracy: 0.9661\n",
            "Epoch 3/3\n",
            "1875/1875 [==============================] - 4s 2ms/step - loss: 0.0719 - accuracy: 0.9770\n"
          ],
          "name": "stdout"
        },
        {
          "output_type": "execute_result",
          "data": {
            "text/plain": [
              "<tensorflow.python.keras.callbacks.History at 0x7f44fdba6a20>"
            ]
          },
          "metadata": {
            "tags": []
          },
          "execution_count": 9
        }
      ]
    },
    {
      "cell_type": "code",
      "metadata": {
        "id": "OOVJCDNeiPxP",
        "colab": {
          "base_uri": "https://localhost:8080/"
        },
        "outputId": "faae4ca2-1535-4a26-ebed-e53f27aac2c0"
      },
      "source": [
        "val_loss, val_acc = model.evaluate(x_test, y_test)\r\n",
        "print(val_loss, val_acc)"
      ],
      "execution_count": null,
      "outputs": [
        {
          "output_type": "stream",
          "text": [
            "313/313 [==============================] - 0s 1ms/step - loss: 0.0941 - accuracy: 0.9680\n",
            "0.09408952295780182 0.9679999947547913\n"
          ],
          "name": "stdout"
        }
      ]
    },
    {
      "cell_type": "code",
      "metadata": {
        "id": "1wGtLJ7PitHt",
        "colab": {
          "base_uri": "https://localhost:8080/"
        },
        "outputId": "d68f6165-abbc-4dc0-cd04-7d5ecfdd7ba8"
      },
      "source": [
        "model.save(\"num_readinator.model\")"
      ],
      "execution_count": null,
      "outputs": [
        {
          "output_type": "stream",
          "text": [
            "INFO:tensorflow:Assets written to: num_readinator.model/assets\n"
          ],
          "name": "stdout"
        }
      ]
    },
    {
      "cell_type": "code",
      "metadata": {
        "id": "50DWj88jizwX"
      },
      "source": [
        "new_model = tf.keras.models.load_model('num_readinator.model')"
      ],
      "execution_count": null,
      "outputs": []
    },
    {
      "cell_type": "code",
      "metadata": {
        "id": "lUnDEHWEi8OH"
      },
      "source": [
        "predictions = new_model.predict(x_train)"
      ],
      "execution_count": null,
      "outputs": []
    },
    {
      "cell_type": "code",
      "metadata": {
        "id": "atYleG3FjEa9",
        "colab": {
          "base_uri": "https://localhost:8080/"
        },
        "outputId": "29783e07-75d7-41b9-de35-c5638f841ce7"
      },
      "source": [
        "import numpy as np\r\n",
        "print(np.argmax(predictions[0]))"
      ],
      "execution_count": null,
      "outputs": [
        {
          "output_type": "stream",
          "text": [
            "5\n"
          ],
          "name": "stdout"
        }
      ]
    },
    {
      "cell_type": "code",
      "metadata": {
        "id": "jattk8kkjRJH",
        "colab": {
          "base_uri": "https://localhost:8080/",
          "height": 265
        },
        "outputId": "f6adb3b8-65c6-4d5d-e438-fcc654edab7b"
      },
      "source": [
        "plt.imshow(x_train[0])\r\n",
        "plt.show()"
      ],
      "execution_count": null,
      "outputs": [
        {
          "output_type": "display_data",
          "data": {
            "image/png": "[encoded data removed]",
            "text/plain": [
              "<Figure size 432x288 with 1 Axes>"
            ]
          },
          "metadata": {
            "tags": [],
            "needs_background": "light"
          }
        }
      ]
    }
  ]
}